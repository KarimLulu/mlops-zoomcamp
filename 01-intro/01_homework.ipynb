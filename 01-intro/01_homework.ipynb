{
 "cells": [
  {
   "cell_type": "code",
   "execution_count": 1,
   "id": "b7959262-4bb1-46dc-87c1-efc34c472302",
   "metadata": {},
   "outputs": [
    {
     "name": "stdout",
     "output_type": "stream",
     "text": [
      "Python 3.9.7\n"
     ]
    }
   ],
   "source": [
    "!python -V"
   ]
  },
  {
   "cell_type": "code",
   "execution_count": 2,
   "id": "d85bc052-a26d-4ad7-8cfe-f38d1ecc2e60",
   "metadata": {},
   "outputs": [],
   "source": [
    "import pandas as pd\n",
    "import seaborn as sns\n",
    "import matplotlib.pyplot as plt\n",
    "from pathlib import Path\n",
    "from sklearn.feature_extraction import DictVectorizer\n",
    "from sklearn.linear_model import LinearRegression\n",
    "from sklearn.linear_model import Lasso\n",
    "from sklearn.linear_model import Ridge\n",
    "\n",
    "from sklearn.metrics import mean_squared_error"
   ]
  },
  {
   "cell_type": "code",
   "execution_count": 3,
   "id": "370968d3-08e3-4fd2-91aa-53ac89f75c19",
   "metadata": {},
   "outputs": [],
   "source": [
    "data_folder = Path.cwd() / 'data'\n",
    "model_folder = Path.cwd() / 'models'\n",
    "model_folder.mkdir(exist_ok=True)"
   ]
  },
  {
   "cell_type": "code",
   "execution_count": 56,
   "id": "24dbf6cf-ff2e-484c-b6d0-38136ddfde67",
   "metadata": {},
   "outputs": [],
   "source": [
    "df = pd.read_parquet(data_folder / 'fhv_tripdata_2021-01.parquet')"
   ]
  },
  {
   "cell_type": "markdown",
   "id": "d8a0f54e-3a83-4691-b3da-0fd78e8d9878",
   "metadata": {},
   "source": [
    "Q1"
   ]
  },
  {
   "cell_type": "code",
   "execution_count": 60,
   "id": "5b9a6ac6-a5cd-466f-af37-fa0a489e8a9f",
   "metadata": {},
   "outputs": [
    {
     "name": "stdout",
     "output_type": "stream",
     "text": [
      "1154112\n"
     ]
    }
   ],
   "source": [
    "print(len(df))"
   ]
  },
  {
   "cell_type": "code",
   "execution_count": 64,
   "id": "f7a9b088-9a3c-4c37-aa85-b0abb659ff09",
   "metadata": {},
   "outputs": [
    {
     "name": "stdout",
     "output_type": "stream",
     "text": [
      "dispatching_base_num              object\n",
      "pickup_datetime           datetime64[ns]\n",
      "dropOff_datetime          datetime64[ns]\n",
      "PUlocationID                     float64\n",
      "DOlocationID                     float64\n",
      "SR_Flag                          float64\n",
      "Affiliated_base_number            object\n",
      "duration                         float64\n",
      "dtype: object\n"
     ]
    }
   ],
   "source": [
    "print(df.dtypes)"
   ]
  },
  {
   "cell_type": "markdown",
   "id": "5055ec0a-767d-43c2-9b9a-be2ad60fa49b",
   "metadata": {},
   "source": [
    "Q2"
   ]
  },
  {
   "cell_type": "code",
   "execution_count": 65,
   "id": "76d6a6a4-2153-4348-9cf1-5a287522e45e",
   "metadata": {},
   "outputs": [],
   "source": [
    "df['duration'] = (df['dropOff_datetime'] - df['pickup_datetime']).map(lambda x: x.total_seconds() / 60)"
   ]
  },
  {
   "cell_type": "code",
   "execution_count": 66,
   "id": "28f5ef68-63c8-452b-b026-349fa928f82f",
   "metadata": {},
   "outputs": [
    {
     "name": "stdout",
     "output_type": "stream",
     "text": [
      "count    1.154112e+06\n",
      "mean     1.916722e+01\n",
      "std      3.986922e+02\n",
      "min      1.666667e-02\n",
      "25%      7.766667e+00\n",
      "50%      1.340000e+01\n",
      "75%      2.228333e+01\n",
      "max      4.233710e+05\n",
      "Name: duration, dtype: float64\n",
      "\n",
      "Mean:\n",
      "19.167 minutes\n"
     ]
    }
   ],
   "source": [
    "print(df.duration.describe())\n",
    "print(\"\\nMean:\")\n",
    "print(f\"{df.duration.mean():.3f} minutes\")"
   ]
  },
  {
   "cell_type": "code",
   "execution_count": 67,
   "id": "6e12a17e-5c59-4e7b-a61e-970a06519dce",
   "metadata": {},
   "outputs": [
    {
     "name": "stdout",
     "output_type": "stream",
     "text": [
      "Dropped: 44286 records\n",
      "Before records: 1_154_112\n",
      "After records: 1_109_826\n"
     ]
    }
   ],
   "source": [
    "cond = (df.duration >= 1) & (df.duration <= 60)\n",
    "dropped = len(cond) - cond.sum()\n",
    "print(f\"Dropped: {dropped} records\")\n",
    "assert dropped + cond.sum() == len(df)\n",
    "\n",
    "print(f\"Before records: {len(df):_}\")\n",
    "df = df[cond]\n",
    "print(f\"After records: {len(df):_}\")"
   ]
  },
  {
   "cell_type": "markdown",
   "id": "a48175f3-9f0a-494b-bc93-b02c7c85a4b0",
   "metadata": {},
   "source": [
    "Q3"
   ]
  },
  {
   "cell_type": "code",
   "execution_count": 30,
   "id": "ec41470f-55f4-4084-b317-a6fea9e47ff1",
   "metadata": {},
   "outputs": [
    {
     "name": "stdout",
     "output_type": "stream",
     "text": [
      "dispatching_base_num\n",
      "pickup_datetime\n",
      "dropOff_datetime\n",
      "PUlocationID\n",
      "DOlocationID\n",
      "SR_Flag\n",
      "Affiliated_base_number\n",
      "duration\n"
     ]
    }
   ],
   "source": [
    "for col in df.columns:\n",
    "    print(col)"
   ]
  },
  {
   "cell_type": "code",
   "execution_count": 68,
   "id": "cd8a505d-d529-46a4-bd6e-c69a5806c20c",
   "metadata": {},
   "outputs": [
    {
     "name": "stderr",
     "output_type": "stream",
     "text": [
      "/var/folders/jn/np29g9x908n399fhdrwyq3hr0000gp/T/ipykernel_49872/1963447105.py:2: SettingWithCopyWarning: \n",
      "A value is trying to be set on a copy of a slice from a DataFrame.\n",
      "Try using .loc[row_indexer,col_indexer] = value instead\n",
      "\n",
      "See the caveats in the documentation: https://pandas.pydata.org/pandas-docs/stable/user_guide/indexing.html#returning-a-view-versus-a-copy\n",
      "  df[locations] = df[locations].fillna('-1')\n"
     ]
    }
   ],
   "source": [
    "locations = ['PUlocationID', 'DOlocationID']\n",
    "df[locations] = df[locations].fillna('-1')"
   ]
  },
  {
   "cell_type": "code",
   "execution_count": 69,
   "id": "8afe050b-e1ca-456f-bb46-43b9b3d84d72",
   "metadata": {},
   "outputs": [
    {
     "name": "stdout",
     "output_type": "stream",
     "text": [
      "Missing PU locations: 83.527%\n",
      "\n",
      "-1       83.527328\n",
      "221.0     0.750568\n",
      "206.0     0.612438\n",
      "129.0     0.484671\n",
      "115.0     0.367805\n",
      "Name: PUlocationID, dtype: float64\n"
     ]
    }
   ],
   "source": [
    "missing = (df['PUlocationID'] == '-1').sum() / len(df)\n",
    "print(f\"Missing PU locations: {missing:.3%}\\n\")\n",
    "print(df['PUlocationID'].value_counts(normalize=1).head() * 100)"
   ]
  },
  {
   "cell_type": "markdown",
   "id": "5a21d3c2-ab02-4e3f-aacf-2cda1738f04f",
   "metadata": {},
   "source": [
    "Q4"
   ]
  },
  {
   "cell_type": "code",
   "execution_count": 73,
   "id": "da7bbff7-a1f6-448e-8906-715420bb68f8",
   "metadata": {},
   "outputs": [
    {
     "name": "stderr",
     "output_type": "stream",
     "text": [
      "/var/folders/jn/np29g9x908n399fhdrwyq3hr0000gp/T/ipykernel_49872/2476559526.py:1: SettingWithCopyWarning: \n",
      "A value is trying to be set on a copy of a slice from a DataFrame.\n",
      "Try using .loc[row_indexer,col_indexer] = value instead\n",
      "\n",
      "See the caveats in the documentation: https://pandas.pydata.org/pandas-docs/stable/user_guide/indexing.html#returning-a-view-versus-a-copy\n",
      "  df[locations] = df[locations].astype(str)\n"
     ]
    }
   ],
   "source": [
    "df[locations] = df[locations].astype(str)"
   ]
  },
  {
   "cell_type": "code",
   "execution_count": 75,
   "id": "90bf7b00-17d7-4a09-a3eb-bf8ea41a7f68",
   "metadata": {},
   "outputs": [],
   "source": [
    "train_dicts = df[locations].to_dict(orient='records')\n",
    "\n",
    "dv = DictVectorizer()\n",
    "X_train = dv.fit_transform(train_dicts)"
   ]
  },
  {
   "cell_type": "code",
   "execution_count": 101,
   "id": "50532095-599d-44e4-8432-8abd95fb3a89",
   "metadata": {},
   "outputs": [
    {
     "name": "stdout",
     "output_type": "stream",
     "text": [
      "525\n"
     ]
    }
   ],
   "source": [
    "print(X_train.shape[-1])"
   ]
  },
  {
   "cell_type": "markdown",
   "id": "eb20a517-4c32-4e77-b3bf-b9813ce82800",
   "metadata": {},
   "source": [
    "Q5"
   ]
  },
  {
   "cell_type": "code",
   "execution_count": 81,
   "id": "8c4ad065-e9a0-47c2-bf74-b20b146063fd",
   "metadata": {},
   "outputs": [],
   "source": [
    "target = 'duration'\n",
    "y_train = df[target].values\n",
    "\n",
    "lr = LinearRegression()\n",
    "lr.fit(X_train, y_train)\n",
    "\n",
    "y_pred = lr.predict(X_train)\n",
    "\n",
    "mse = mean_squared_error(y_train, y_pred, squared=False)"
   ]
  },
  {
   "cell_type": "code",
   "execution_count": 82,
   "id": "ddfcb48f-81f8-443d-af6d-3c6c7f2b4d54",
   "metadata": {},
   "outputs": [
    {
     "name": "stdout",
     "output_type": "stream",
     "text": [
      "MSE: 10.529\n"
     ]
    }
   ],
   "source": [
    "print(f\"MSE: {mse:.3f}\")"
   ]
  },
  {
   "cell_type": "markdown",
   "id": "74c2df9e-4d83-4f7b-92c2-4bffcfd491b6",
   "metadata": {},
   "source": [
    "Q6"
   ]
  },
  {
   "cell_type": "code",
   "execution_count": 95,
   "id": "3a0d9bb0-a8c6-452e-96b7-1ac9b4f114df",
   "metadata": {},
   "outputs": [],
   "source": [
    "LOCATIONS = ['PUlocationID', 'DOlocationID']\n",
    "\n",
    "def read_process_data(path, categorical=None):\n",
    "    if categorical is None:\n",
    "        categorical = LOCATIONS\n",
    "    df = pd.read_parquet(path)\n",
    "    df['duration'] = (df['dropOff_datetime'] - df['pickup_datetime']).map(lambda x: x.total_seconds() / 60)\n",
    "    cond = (df.duration >= 1) & (df.duration <= 60)\n",
    "    df = df[cond]\n",
    "    df[categorical] = df[categorical].fillna('-1')\n",
    "    df[categorical] = df[categorical].astype(str)\n",
    "    return df"
   ]
  },
  {
   "cell_type": "code",
   "execution_count": 96,
   "id": "f454c72a-f7e6-4011-a6af-c5e41428c281",
   "metadata": {},
   "outputs": [],
   "source": [
    "def build_features(train_data, val_data, target='duration', features=None):\n",
    "    if features is None:\n",
    "        features = LOCATIONS\n",
    "    train_dicts = train_data[features].to_dict(orient='records')\n",
    "    val_dicts = val_data[features].to_dict(orient='records')\n",
    "    dv = DictVectorizer()\n",
    "    X_train = dv.fit_transform(train_dicts)\n",
    "    X_val = dv.transform(val_dicts)\n",
    "    return X_train, train_data[target].values, X_val, val_data[target].values"
   ]
  },
  {
   "cell_type": "code",
   "execution_count": 97,
   "id": "1638fc32-58ba-4230-8e08-589ef3bc31e7",
   "metadata": {},
   "outputs": [],
   "source": [
    "train_path = data_folder / 'fhv_tripdata_2021-01.parquet'\n",
    "val_path = data_folder / 'fhv_tripdata_2021-02.parquet'\n",
    "\n",
    "train_data = read_process_data(train_path)\n",
    "val_data = read_process_data(val_path)"
   ]
  },
  {
   "cell_type": "code",
   "execution_count": 98,
   "id": "251e4966-8e01-422d-9c46-681fbe50ff72",
   "metadata": {
    "tags": []
   },
   "outputs": [],
   "source": [
    "X_train, y_train, X_val, y_val = build_features(train_data, val_data)"
   ]
  },
  {
   "cell_type": "code",
   "execution_count": 99,
   "id": "0ccc4d81-7910-4c2b-8010-4c5795501f93",
   "metadata": {},
   "outputs": [],
   "source": [
    "lr = LinearRegression()\n",
    "lr.fit(X_train, y_train)\n",
    "\n",
    "y_train_pred = lr.predict(X_train)\n",
    "y_pred = lr.predict(X_val)\n",
    "\n",
    "train_mse = mean_squared_error(y_train, y_train_pred, squared=False)\n",
    "val_mse = mean_squared_error(y_val, y_pred, squared=False)"
   ]
  },
  {
   "cell_type": "code",
   "execution_count": 102,
   "id": "cbf34c9b-7fa3-4093-b8ac-a15712e91afd",
   "metadata": {},
   "outputs": [
    {
     "name": "stdout",
     "output_type": "stream",
     "text": [
      "Train MSE: 10.529\n",
      "Validation MSE: 11.014\n"
     ]
    }
   ],
   "source": [
    "print(f\"Train MSE: {train_mse:.3f}\\nValidation MSE: {val_mse:.3f}\")"
   ]
  }
 ],
 "metadata": {
  "kernelspec": {
   "display_name": "Python 3 (ipykernel)",
   "language": "python",
   "name": "python3"
  },
  "language_info": {
   "codemirror_mode": {
    "name": "ipython",
    "version": 3
   },
   "file_extension": ".py",
   "mimetype": "text/x-python",
   "name": "python",
   "nbconvert_exporter": "python",
   "pygments_lexer": "ipython3",
   "version": "3.9.7"
  }
 },
 "nbformat": 4,
 "nbformat_minor": 5
}
