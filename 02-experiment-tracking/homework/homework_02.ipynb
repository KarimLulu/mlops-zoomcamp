{
 "cells": [
  {
   "cell_type": "code",
   "execution_count": 218,
   "id": "3aa13aa7-cbf0-4e5e-8129-cd85eda3bdd5",
   "metadata": {},
   "outputs": [],
   "source": [
    "import mlflow\n",
    "from mlflow.tracking import MlflowClient\n",
    "from pathlib import Path"
   ]
  },
  {
   "cell_type": "markdown",
   "id": "f4d00d26-b305-440d-b4b3-c7f111e673f8",
   "metadata": {},
   "source": [
    "Q1"
   ]
  },
  {
   "cell_type": "code",
   "execution_count": 219,
   "id": "ba7f4134-4eae-4576-b5aa-76ad197755f8",
   "metadata": {},
   "outputs": [
    {
     "name": "stdout",
     "output_type": "stream",
     "text": [
      "Version: 1.26.0\n"
     ]
    }
   ],
   "source": [
    "print(f\"Version: {mlflow.__version__}\")"
   ]
  },
  {
   "cell_type": "markdown",
   "id": "25e6dc73-bd96-4529-82ac-64d5c8c914e3",
   "metadata": {},
   "source": [
    "Q2"
   ]
  },
  {
   "cell_type": "code",
   "execution_count": 220,
   "id": "965ae010-40e0-4341-9b6f-6bac0b258e94",
   "metadata": {},
   "outputs": [
    {
     "name": "stdout",
     "output_type": "stream",
     "text": [
      "Total output files: 4\n"
     ]
    }
   ],
   "source": [
    "output_path = Path().resolve() / 'homework' / 'output'\n",
    "total_files = sum(1 for f in output_path.iterdir() if f.is_file())\n",
    "print(f\"Total output files: {total_files}\")"
   ]
  },
  {
   "cell_type": "markdown",
   "id": "7d9baa80-a37f-419a-8f17-af0d24ee1a71",
   "metadata": {},
   "source": [
    "Q3"
   ]
  },
  {
   "cell_type": "code",
   "execution_count": 221,
   "id": "03fc113c-7c1c-44e9-809b-649e94ea2a8e",
   "metadata": {},
   "outputs": [
    {
     "name": "stdout",
     "output_type": "stream",
     "text": [
      "Number of parameters: 17\n"
     ]
    }
   ],
   "source": [
    "homework_local_model_runs = str(Path().resolve() / 'homework' / 'mlruns')\n",
    "client = MlflowClient(homework_local_model_runs)\n",
    "exp_id = client.list_experiments()[0].experiment_id\n",
    "run = client.search_runs(exp_id)[0]\n",
    "print(f\"Number of parameters: {len(run.data.params)}\")"
   ]
  },
  {
   "cell_type": "markdown",
   "id": "1b863d44-55d2-4f81-b7d6-fa1a920d7287",
   "metadata": {},
   "source": [
    "Q4"
   ]
  },
  {
   "cell_type": "code",
   "execution_count": 222,
   "id": "4fda7a63-cd75-4918-adf9-0c163fef0685",
   "metadata": {},
   "outputs": [],
   "source": [
    "import subprocess\n",
    "import re"
   ]
  },
  {
   "cell_type": "code",
   "execution_count": 223,
   "id": "fb7f6207-e32d-4a52-9e04-553bc6e69f2a",
   "metadata": {},
   "outputs": [],
   "source": [
    "result = subprocess.run(['mlflow', 'server', '--backend-store-uri', 'sqlite:///mlflow.db'], stderr=subprocess.PIPE, stdout=subprocess.PIPE)"
   ]
  },
  {
   "cell_type": "code",
   "execution_count": 224,
   "id": "e050f43e-db4b-4f17-931e-fbbe4b627bf8",
   "metadata": {},
   "outputs": [
    {
     "name": "stdout",
     "output_type": "stream",
     "text": [
      "Option 'default-artifact-root' is required when backend store is not local file based.\n"
     ]
    }
   ],
   "source": [
    "match = re.search(r\"Error: (?P<option>.*)\", result.stderr.decode())\n",
    "print(match.groupdict()['option'])"
   ]
  },
  {
   "cell_type": "markdown",
   "id": "94bebb24-1b61-4b02-bd2a-42a186a7d627",
   "metadata": {},
   "source": [
    "Q5"
   ]
  },
  {
   "cell_type": "code",
   "execution_count": 225,
   "id": "bc9cec8a-978f-49ea-9768-1c5888cc78ee",
   "metadata": {},
   "outputs": [],
   "source": [
    "MLFLOW_TRACKING_URI = \"sqlite:///homework/mlflow.db\""
   ]
  },
  {
   "cell_type": "code",
   "execution_count": 226,
   "id": "fa90ae1a-9810-48dd-9ca8-1c4dfa27bbfb",
   "metadata": {},
   "outputs": [],
   "source": [
    "client = MlflowClient(tracking_uri=MLFLOW_TRACKING_URI)"
   ]
  },
  {
   "cell_type": "code",
   "execution_count": 227,
   "id": "8558baf3-3070-4b6d-a546-aa07d8792551",
   "metadata": {},
   "outputs": [
    {
     "name": "stdout",
     "output_type": "stream",
     "text": [
      "Best RMSE: 6.628\n"
     ]
    }
   ],
   "source": [
    "experiment = client.get_experiment_by_name('random-forest-hyperopt')\n",
    "best_run = client.search_runs(experiment_ids=experiment.experiment_id, order_by=[\"metrics.rmse ASC\"], max_results=1)[0]\n",
    "print(\"Best RMSE:\", round(best_run.data.metrics['rmse'], 3))"
   ]
  },
  {
   "cell_type": "markdown",
   "id": "079cda13-9db2-4be1-90b7-c9a9e5551b4b",
   "metadata": {},
   "source": [
    "Q6"
   ]
  },
  {
   "cell_type": "code",
   "execution_count": 235,
   "id": "c0fcd290-7bf5-42c2-acf3-d72840ebff0a",
   "metadata": {},
   "outputs": [
    {
     "name": "stdout",
     "output_type": "stream",
     "text": [
      "Best test RMSE: 6.55\n"
     ]
    }
   ],
   "source": [
    "experiment_name = \"random-forest-best-models\"\n",
    "test_metric = \"test_rmse\"\n",
    "experiment = client.get_experiment_by_name(experiment_name)\n",
    "best_run = client.search_runs(\n",
    "    experiment_ids=experiment.experiment_id,\n",
    "    order_by=[f\"metrics.{test_metric} ASC\"],\n",
    "    max_results=1)[0]\n",
    "print(\"Best test RMSE:\", round(best_run.data.metrics[test_metric], 2))"
   ]
  },
  {
   "cell_type": "code",
   "execution_count": null,
   "id": "f80a4b1f-2e19-4ded-a2a7-b254739bc3bf",
   "metadata": {},
   "outputs": [],
   "source": []
  }
 ],
 "metadata": {
  "kernelspec": {
   "display_name": "Python 3 (ipykernel)",
   "language": "python",
   "name": "python3"
  },
  "language_info": {
   "codemirror_mode": {
    "name": "ipython",
    "version": 3
   },
   "file_extension": ".py",
   "mimetype": "text/x-python",
   "name": "python",
   "nbconvert_exporter": "python",
   "pygments_lexer": "ipython3",
   "version": "3.9.7"
  }
 },
 "nbformat": 4,
 "nbformat_minor": 5
}
