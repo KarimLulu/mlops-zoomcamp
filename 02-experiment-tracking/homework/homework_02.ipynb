{
 "cells": [
  {
   "cell_type": "code",
   "execution_count": 27,
   "id": "3aa13aa7-cbf0-4e5e-8129-cd85eda3bdd5",
   "metadata": {},
   "outputs": [],
   "source": [
    "import mlflow\n",
    "from mlflow.tracking import MlflowClient\n",
    "from pathlib import Path"
   ]
  },
  {
   "cell_type": "markdown",
   "id": "f4d00d26-b305-440d-b4b3-c7f111e673f8",
   "metadata": {},
   "source": [
    "Q1"
   ]
  },
  {
   "cell_type": "code",
   "execution_count": 4,
   "id": "ba7f4134-4eae-4576-b5aa-76ad197755f8",
   "metadata": {},
   "outputs": [
    {
     "name": "stdout",
     "output_type": "stream",
     "text": [
      "Version: 1.26.0\n"
     ]
    }
   ],
   "source": [
    "print(f\"Version: {mlflow.__version__}\")"
   ]
  },
  {
   "cell_type": "markdown",
   "id": "25e6dc73-bd96-4529-82ac-64d5c8c914e3",
   "metadata": {},
   "source": [
    "Q2"
   ]
  },
  {
   "cell_type": "code",
   "execution_count": 22,
   "id": "965ae010-40e0-4341-9b6f-6bac0b258e94",
   "metadata": {},
   "outputs": [
    {
     "name": "stdout",
     "output_type": "stream",
     "text": [
      "Total output files: 4\n"
     ]
    }
   ],
   "source": [
    "output_path = Path().resolve() / 'homework' / 'output'\n",
    "total_files = sum(1 for f in output_path.iterdir() if f.is_file())\n",
    "print(f\"Total output files: {total_files}\")"
   ]
  },
  {
   "cell_type": "markdown",
   "id": "7d9baa80-a37f-419a-8f17-af0d24ee1a71",
   "metadata": {},
   "source": [
    "Q3"
   ]
  },
  {
   "cell_type": "markdown",
   "id": "1b863d44-55d2-4f81-b7d6-fa1a920d7287",
   "metadata": {},
   "source": [
    "Q4"
   ]
  },
  {
   "cell_type": "code",
   "execution_count": 23,
   "id": "4fda7a63-cd75-4918-adf9-0c163fef0685",
   "metadata": {},
   "outputs": [
    {
     "name": "stdout",
     "output_type": "stream",
     "text": [
      "default-artifact-root\n"
     ]
    }
   ],
   "source": [
    "print(\"default-artifact-root\")"
   ]
  },
  {
   "cell_type": "markdown",
   "id": "94bebb24-1b61-4b02-bd2a-42a186a7d627",
   "metadata": {},
   "source": [
    "Q5"
   ]
  },
  {
   "cell_type": "code",
   "execution_count": 29,
   "id": "bc9cec8a-978f-49ea-9768-1c5888cc78ee",
   "metadata": {},
   "outputs": [],
   "source": [
    "MLFLOW_TRACKING_URI = \"sqlite:///homework/mlflow.db\""
   ]
  },
  {
   "cell_type": "code",
   "execution_count": 31,
   "id": "fa90ae1a-9810-48dd-9ca8-1c4dfa27bbfb",
   "metadata": {},
   "outputs": [],
   "source": [
    "client = MlflowClient(tracking_uri=MLFLOW_TRACKING_URI)"
   ]
  },
  {
   "cell_type": "code",
   "execution_count": 64,
   "id": "8558baf3-3070-4b6d-a546-aa07d8792551",
   "metadata": {},
   "outputs": [
    {
     "name": "stdout",
     "output_type": "stream",
     "text": [
      "Best RMSE: 6.628\n"
     ]
    }
   ],
   "source": [
    "experiment = client.get_experiment_by_name('random-forest-hyperopt')\n",
    "best_run = client.search_runs(experiment_ids=experiment.experiment_id, order_by=[\"metrics.rmse ASC\"], max_results=1)[0]\n",
    "print(\"Best RMSE:\", round(best_run.data.metrics['rmse'], 3))"
   ]
  },
  {
   "cell_type": "markdown",
   "id": "079cda13-9db2-4be1-90b7-c9a9e5551b4b",
   "metadata": {},
   "source": [
    "Q6"
   ]
  },
  {
   "cell_type": "code",
   "execution_count": 77,
   "id": "c0fcd290-7bf5-42c2-acf3-d72840ebff0a",
   "metadata": {},
   "outputs": [
    {
     "name": "stdout",
     "output_type": "stream",
     "text": [
      "Best test RMSE: 6.55\n"
     ]
    }
   ],
   "source": [
    "experiment_name = \"random-forest-best-models\"\n",
    "experiment = client.get_experiment_by_name(experiment_name)\n",
    "best_run = client.search_runs(\n",
    "    experiment_ids=experiment.experiment_id,\n",
    "    order_by=[\"metrics.rmse ASC\"],\n",
    "    max_results=1)[0]\n",
    "print(\"Best test RMSE:\", round(best_run.data.metrics['test_rmse'], 2))"
   ]
  },
  {
   "cell_type": "code",
   "execution_count": null,
   "id": "f80a4b1f-2e19-4ded-a2a7-b254739bc3bf",
   "metadata": {},
   "outputs": [],
   "source": []
  }
 ],
 "metadata": {
  "kernelspec": {
   "display_name": "Python 3 (ipykernel)",
   "language": "python",
   "name": "python3"
  },
  "language_info": {
   "codemirror_mode": {
    "name": "ipython",
    "version": 3
   },
   "file_extension": ".py",
   "mimetype": "text/x-python",
   "name": "python",
   "nbconvert_exporter": "python",
   "pygments_lexer": "ipython3",
   "version": "3.9.7"
  }
 },
 "nbformat": 4,
 "nbformat_minor": 5
}
