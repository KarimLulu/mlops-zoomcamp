{
 "cells": [
  {
   "cell_type": "markdown",
   "metadata": {
    "pycharm": {
     "name": "#%% md\n"
    }
   },
   "source": [
    "## Scenario 3: Multiple data scientists working on multiple ML models\n",
    "\n",
    "MLflow setup:\n",
    "* Tracking server: yes, remote server (EC2).\n",
    "* Backend store: postgresql database.\n",
    "* Artifacts store: s3 bucket.\n",
    "\n",
    "The experiments can be explored by accessing the remote server.\n",
    "\n",
    "The exampe uses AWS to host a remote server. In order to run the example you'll need an AWS account. Follow the steps described in the file `mlflow_on_aws.md` to create a new AWS account and launch the tracking server. "
   ]
  },
  {
   "cell_type": "code",
   "execution_count": 66,
   "metadata": {
    "pycharm": {
     "name": "#%%\n"
    }
   },
   "outputs": [],
   "source": [
    "import mlflow\n",
    "import os\n",
    "import tempfile\n",
    "from pathlib import Path\n",
    "\n",
    "os.environ[\"AWS_PROFILE\"] = \"mlflow\" # fill in with your AWS profile. More info: https://docs.aws.amazon.com/sdk-for-java/latest/developer-guide/setup.html#setup-credentials\n",
    "\n",
    "TRACKING_SERVER_HOST = \"18.133.27.208\" # fill in with the public DNS of the EC2 instance\n",
    "mlflow.set_tracking_uri(f\"http://{TRACKING_SERVER_HOST}:5000\")"
   ]
  },
  {
   "cell_type": "code",
   "execution_count": 24,
   "metadata": {
    "pycharm": {
     "name": "#%%\n"
    }
   },
   "outputs": [
    {
     "name": "stdout",
     "output_type": "stream",
     "text": [
      "tracking URI: 'http://18.133.27.208:5000'\n"
     ]
    }
   ],
   "source": [
    "print(f\"tracking URI: '{mlflow.get_tracking_uri()}'\")"
   ]
  },
  {
   "cell_type": "code",
   "execution_count": 25,
   "metadata": {
    "pycharm": {
     "name": "#%%\n"
    }
   },
   "outputs": [
    {
     "data": {
      "text/plain": [
       "[<Experiment: artifact_location='s3://mlflow-artifacts-remote-3/0', experiment_id='0', lifecycle_stage='active', name='Default', tags={}>,\n",
       " <Experiment: artifact_location='s3://mlflow-artifacts-remote-3/1', experiment_id='1', lifecycle_stage='active', name='my-experiment-1', tags={}>,\n",
       " <Experiment: artifact_location='./artifacts/2', experiment_id='2', lifecycle_stage='active', name='my-experiment-2', tags={}>,\n",
       " <Experiment: artifact_location='./artifacts/3', experiment_id='3', lifecycle_stage='active', name='my-experiment-3', tags={}>,\n",
       " <Experiment: artifact_location='mlflow-artifacts:/4', experiment_id='4', lifecycle_stage='active', name='my-experiment-4', tags={}>,\n",
       " <Experiment: artifact_location='./artifacts/5', experiment_id='5', lifecycle_stage='active', name='my-experiment-5', tags={}>,\n",
       " <Experiment: artifact_location='mlflow-artifacts:/6', experiment_id='6', lifecycle_stage='active', name='my-experiment-6', tags={}>,\n",
       " <Experiment: artifact_location='./artifacts/7', experiment_id='7', lifecycle_stage='active', name='my-experiment-7', tags={}>,\n",
       " <Experiment: artifact_location='mlflow-artifacts:/8', experiment_id='8', lifecycle_stage='active', name='my-experiment-8', tags={}>,\n",
       " <Experiment: artifact_location='mlflow-artifacts:/9', experiment_id='9', lifecycle_stage='active', name='my-experiment-9', tags={}>]"
      ]
     },
     "execution_count": 25,
     "metadata": {},
     "output_type": "execute_result"
    }
   ],
   "source": [
    "mlflow.list_experiments()"
   ]
  },
  {
   "cell_type": "code",
   "execution_count": 26,
   "metadata": {
    "pycharm": {
     "name": "#%%\n"
    }
   },
   "outputs": [
    {
     "name": "stderr",
     "output_type": "stream",
     "text": [
      "2022/05/30 10:57:57 INFO mlflow.tracking.fluent: Experiment with name 'my-experiment-10' does not exist. Creating a new experiment.\n"
     ]
    },
    {
     "name": "stdout",
     "output_type": "stream",
     "text": [
      "default artifacts URI: 's3://mlflow-artifacts-remote-3/10/9a6eba387dfa49b1ad9b89542fba8cf8/artifacts'\n"
     ]
    }
   ],
   "source": [
    "from sklearn.linear_model import LogisticRegression\n",
    "from sklearn.datasets import load_iris\n",
    "from sklearn.metrics import accuracy_score\n",
    "\n",
    "n = 10\n",
    "mlflow.set_experiment(f\"my-experiment-{n}\")\n",
    "\n",
    "with mlflow.start_run():\n",
    "\n",
    "    X, y = load_iris(return_X_y=True)\n",
    "\n",
    "    params = {\"C\": 0.1, \"random_state\": 42}\n",
    "    mlflow.log_params(params)\n",
    "\n",
    "    lr = LogisticRegression(**params).fit(X, y)\n",
    "    y_pred = lr.predict(X)\n",
    "    mlflow.log_metric(\"accuracy\", accuracy_score(y, y_pred))\n",
    "\n",
    "    mlflow.sklearn.log_model(lr, artifact_path=\"models\")\n",
    "    print(f\"default artifacts URI: '{mlflow.get_artifact_uri()}'\")"
   ]
  },
  {
   "cell_type": "code",
   "execution_count": 37,
   "metadata": {
    "pycharm": {
     "name": "#%%\n"
    }
   },
   "outputs": [
    {
     "name": "stdout",
     "output_type": "stream",
     "text": [
      "s3://mlflow-artifacts-remote-3/10/9a6eba387dfa49b1ad9b89542fba8cf8/artifacts\n"
     ]
    }
   ],
   "source": [
    "experiment = mlflow.list_experiments()[-1]\n",
    "last_run = mlflow.list_run_infos(experiment_id=experiment.experiment_id)[-1]\n",
    "print(last_run.artifact_uri)"
   ]
  },
  {
   "cell_type": "markdown",
   "metadata": {
    "pycharm": {
     "name": "#%% md\n"
    }
   },
   "source": [
    "### Interacting with the model registry"
   ]
  },
  {
   "cell_type": "code",
   "execution_count": 38,
   "metadata": {
    "pycharm": {
     "name": "#%%\n"
    }
   },
   "outputs": [],
   "source": [
    "from mlflow.tracking import MlflowClient\n",
    "\n",
    "\n",
    "client = MlflowClient(f\"http://{TRACKING_SERVER_HOST}:5000\")"
   ]
  },
  {
   "cell_type": "code",
   "execution_count": 39,
   "metadata": {
    "pycharm": {
     "name": "#%%\n"
    }
   },
   "outputs": [
    {
     "data": {
      "text/plain": [
       "[<RegisteredModel: creation_timestamp=1653845643389, description='', last_updated_timestamp=1653845643494, latest_versions=[<ModelVersion: creation_timestamp=1653845643494, current_stage='None', description='', last_updated_timestamp=1653845643494, name='iris-classifier', run_id='584391ae4c7942959be21d8529f3ea7a', run_link='', source='s3://mlflow-artifacts-remote-3/1/584391ae4c7942959be21d8529f3ea7a/artifacts/models', status='READY', status_message='', tags={}, user_id='', version='1'>], name='iris-classifier', tags={}>]"
      ]
     },
     "execution_count": 39,
     "metadata": {},
     "output_type": "execute_result"
    }
   ],
   "source": [
    "client.list_registered_models()"
   ]
  },
  {
   "cell_type": "code",
   "execution_count": 58,
   "metadata": {
    "pycharm": {
     "name": "#%%\n"
    }
   },
   "outputs": [
    {
     "name": "stderr",
     "output_type": "stream",
     "text": [
      "Registered model 'iris-classifier' already exists. Creating a new version of this model...\n",
      "2022/05/30 12:38:07 INFO mlflow.tracking._model_registry.client: Waiting up to 300 seconds for model version to finish creation.                     Model name: iris-classifier, version 4\n",
      "Created version '4' of model 'iris-classifier'.\n"
     ]
    }
   ],
   "source": [
    "run_id = client.list_run_infos(experiment_id=experiment.experiment_id)[-1].run_id\n",
    "name = 'iris-classifier'\n",
    "mv = mlflow.register_model(\n",
    "    model_uri=f\"runs:/{run_id}/models\",\n",
    "    name='iris-classifier'\n",
    ")"
   ]
  },
  {
   "cell_type": "markdown",
   "metadata": {
    "pycharm": {
     "name": "#%% md\n"
    }
   },
   "source": [
    "### Download artifacts"
   ]
  },
  {
   "cell_type": "code",
   "execution_count": 96,
   "metadata": {
    "pycharm": {
     "name": "#%%\n"
    }
   },
   "outputs": [
    {
     "name": "stdout",
     "output_type": "stream",
     "text": [
      "\n",
      "File: python_env.yaml\n",
      "python: 3.9.7\n",
      "build_dependencies:\n",
      "- pip==21.2.4\n",
      "- setuptools==61.2.0\n",
      "- wheel==0.37.1\n",
      "dependencies:\n",
      "- -r requirements.txt\n",
      "\n",
      "\n",
      "File: requirements.txt\n",
      "mlflow\n",
      "cloudpickle==2.1.0\n",
      "scikit-learn==1.0.2\n",
      "typing-extensions==4.1.1\n",
      "\n",
      "File: MLmodel\n",
      "artifact_path: models\n",
      "flavors:\n",
      "  python_function:\n",
      "    env: conda.yaml\n",
      "    loader_module: mlflow.sklearn\n",
      "    model_path: model.pkl\n",
      "    python_version: 3.9.7\n",
      "  sklearn:\n",
      "    code: null\n",
      "    pickled_model: model.pkl\n",
      "    serialization_format: cloudpickle\n",
      "    sklearn_version: 1.0.2\n",
      "mlflow_version: 1.26.0\n",
      "model_uuid: 980ae8b83a4e4cb7b33c0c3c4a2d8367\n",
      "run_id: 9a6eba387dfa49b1ad9b89542fba8cf8\n",
      "utc_time_created: '2022-05-30 08:57:58.186435'\n",
      "\n",
      "\n",
      "File: conda.yaml\n",
      "channels:\n",
      "- conda-forge\n",
      "dependencies:\n",
      "- python=3.9.7\n",
      "- pip<=21.2.4\n",
      "- pip:\n",
      "  - mlflow\n",
      "  - cloudpickle==2.1.0\n",
      "  - scikit-learn==1.0.2\n",
      "  - typing-extensions==4.1.1\n",
      "name: mlflow-env\n",
      "\n"
     ]
    }
   ],
   "source": [
    "with tempfile.TemporaryDirectory() as tmpdirname:\n",
    "    mlflow.artifacts.download_artifacts(f\"models:/{name}/None\", dst_path=tmpdirname)\n",
    "    path = Path(tmpdirname)\n",
    "    for item in path.iterdir():\n",
    "        try:\n",
    "            with item.open() as f:\n",
    "                content = f.read()\n",
    "            print(\"\\nFile:\", item.name)\n",
    "            print(content)\n",
    "        except UnicodeDecodeError:\n",
    "            continue\n",
    "    sk_model = mlflow.sklearn.load_model(tmpdirname)\n",
    "    model = mlflow.pyfunc.load_model(tmpdirname)"
   ]
  }
 ],
 "metadata": {
  "interpreter": {
   "hash": "0848c9d6c7d415ad6c477ff7ff8e98694d1a4aa96d0deee89244642e6b630036"
  },
  "kernelspec": {
   "display_name": "Python 3 (ipykernel)",
   "language": "python",
   "name": "python3"
  },
  "language_info": {
   "codemirror_mode": {
    "name": "ipython",
    "version": 3
   },
   "file_extension": ".py",
   "mimetype": "text/x-python",
   "name": "python",
   "nbconvert_exporter": "python",
   "pygments_lexer": "ipython3",
   "version": "3.9.7"
  }
 },
 "nbformat": 4,
 "nbformat_minor": 4
}