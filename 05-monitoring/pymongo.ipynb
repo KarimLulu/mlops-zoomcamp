{
 "cells": [
  {
   "cell_type": "code",
   "execution_count": 20,
   "id": "e8722513-5801-46ab-8842-30157fab84c4",
   "metadata": {},
   "outputs": [],
   "source": [
    "import pymongo\n",
    "import json\n",
    "from bson import ObjectId"
   ]
  },
  {
   "cell_type": "code",
   "execution_count": 22,
   "id": "64b44c7d-4332-4923-89f8-b07fe414d725",
   "metadata": {},
   "outputs": [],
   "source": [
    "class JSONEncoder(json.JSONEncoder):\n",
    "    def default(self, o):\n",
    "        if isinstance(o, ObjectId):\n",
    "            return str(o)\n",
    "        return json.JSONEncoder.default(self, o)"
   ]
  },
  {
   "cell_type": "code",
   "execution_count": 19,
   "id": "7f342c99-8f1d-4a1d-a1d9-dbd6b20441d8",
   "metadata": {},
   "outputs": [
    {
     "name": "stdout",
     "output_type": "stream",
     "text": [
      "{\n",
      "    \"DOLocationID\": 129,\n",
      "    \"PULocationID\": 129,\n",
      "    \"PU_DO\": \"129_129\",\n",
      "    \"RatecodeID\": 1.0,\n",
      "    \"VendorID\": 2,\n",
      "    \"_id\": \"62c6e5c14beb4e0eef850355\",\n",
      "    \"congestion_surcharge\": 0.0,\n",
      "    \"ehail_fee\": null,\n",
      "    \"extra\": 0.5,\n",
      "    \"fare_amount\": 13.5,\n",
      "    \"id\": \"24bf5c66-c1b2-4878-83cd-56eb12d6264a\",\n",
      "    \"improvement_surcharge\": 0.3,\n",
      "    \"lpep_dropoff_datetime\": \"2022-01-01T01:51:35\",\n",
      "    \"lpep_pickup_datetime\": \"2022-01-01T01:32:50\",\n",
      "    \"mta_tax\": 0.5,\n",
      "    \"passenger_count\": 1.0,\n",
      "    \"payment_type\": 2.0,\n",
      "    \"prediction\": 6.991757214310898,\n",
      "    \"store_and_fwd_flag\": \"N\",\n",
      "    \"tip_amount\": 0.0,\n",
      "    \"tolls_amount\": 0.0,\n",
      "    \"total_amount\": 14.8,\n",
      "    \"trip_distance\": 2.99,\n",
      "    \"trip_type\": 1.0\n",
      "}\n"
     ]
    }
   ],
   "source": [
    "mongo_client = pymongo.MongoClient('mongodb://localhost:27018')\n",
    "db = mongo_client.get_database(\"prediction_service\")\n",
    "collection = db.get_collection(\"data\")\n",
    "\n",
    "data = list(collection.find(limit=100))\n",
    "print(json.dumps(data[-2], indent=4, cls=JSONEncoder, sort_keys=1))"
   ]
  },
  {
   "cell_type": "code",
   "execution_count": 51,
   "id": "8d4b5b74-5584-4494-b69a-e3c96cf0f877",
   "metadata": {},
   "outputs": [
    {
     "name": "stdout",
     "output_type": "stream",
     "text": [
      "2609\n"
     ]
    }
   ],
   "source": [
    "print(collection.count_documents({}))"
   ]
  }
 ],
 "metadata": {
  "kernelspec": {
   "display_name": "Python 3 (ipykernel)",
   "language": "python",
   "name": "python3"
  },
  "language_info": {
   "codemirror_mode": {
    "name": "ipython",
    "version": 3
   },
   "file_extension": ".py",
   "mimetype": "text/x-python",
   "name": "python",
   "nbconvert_exporter": "python",
   "pygments_lexer": "ipython3",
   "version": "3.9.12"
  }
 },
 "nbformat": 4,
 "nbformat_minor": 5
}
